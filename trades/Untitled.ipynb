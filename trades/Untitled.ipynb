{
 "cells": [
  {
   "cell_type": "code",
   "execution_count": 1,
   "metadata": {},
   "outputs": [],
   "source": [
    "from bs4 import BeautifulSoup\n",
    "from selenium import webdriver\n",
    "import pandas as pd\n",
    "import csv, requests\n",
    "\n",
    "DECIMAL = 1\n",
    "stocks = [\"IBULHSGFIN\", \"SBIN\", \"DLF\", \"TATASTEEL\", \"JINDALSTEL\", \"BANDHANBNK\", \"PFC\", \"APOLLOTYRE\", \"CADILAHC\", \"M%26MFIN\", \"TATAMOTORS\"]\n",
    "percent_from_strike = 0.15\n",
    "expiry = \"2020-09-24\" #format \"yyyy-mm-dd\"\n",
    "\n",
    "links = pd.read_csv(\"links.csv\")\n",
    "\n",
    "with open('trades.csv', mode='w') as file:\n",
    "        file.write(\"\\n\")"
   ]
  },
  {
   "cell_type": "code",
   "execution_count": 11,
   "metadata": {},
   "outputs": [
    {
     "data": {
      "text/plain": [
       "<p class=\"r_28 FL\"><strong>173.10</strong></p>"
      ]
     },
     "execution_count": 11,
     "metadata": {},
     "output_type": "execute_result"
    }
   ],
   "source": [
    "s = \"DLF\"\n",
    "mc = list(links[links[\"StockCode\"] == s][\"MCCode\"])[0]\n",
    "# url = \"https://www1.nseindia.com/live_market/dynaContent/live_watch/option_chain/optionKeys.jsp?segmentLink=17&instrument=OPTSTK&symbol={}&date=24SEP2020\".format(s, s)\n",
    "url = \"https://www.moneycontrol.com/stocks/fno/view_option_chain.php?sc_id={}&sel_exp_date={}\".format(mc, expiry)\n",
    "response = requests.get(url)\n",
    "soup = BeautifulSoup(response.content, \"html.parser\")\n",
    "soup.find(\"p\", {\"class\": \"r_28 FL\"})\n",
    "    \n",
    "#     lower = (1-percent_from_strike)*curr_price\n",
    "#     upper = (1+percent_from_strike)*curr_price"
   ]
  },
  {
   "cell_type": "code",
   "execution_count": null,
   "metadata": {},
   "outputs": [],
   "source": []
  },
  {
   "cell_type": "code",
   "execution_count": null,
   "metadata": {},
   "outputs": [],
   "source": []
  },
  {
   "cell_type": "code",
   "execution_count": null,
   "metadata": {},
   "outputs": [],
   "source": []
  },
  {
   "cell_type": "code",
   "execution_count": null,
   "metadata": {},
   "outputs": [],
   "source": []
  }
 ],
 "metadata": {
  "kernelspec": {
   "display_name": "Python 3",
   "language": "python",
   "name": "python3"
  },
  "language_info": {
   "codemirror_mode": {
    "name": "ipython",
    "version": 3
   },
   "file_extension": ".py",
   "mimetype": "text/x-python",
   "name": "python",
   "nbconvert_exporter": "python",
   "pygments_lexer": "ipython3",
   "version": "3.7.4"
  }
 },
 "nbformat": 4,
 "nbformat_minor": 2
}
