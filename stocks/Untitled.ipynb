{
 "cells": [
  {
   "cell_type": "code",
   "execution_count": 1,
   "metadata": {},
   "outputs": [],
   "source": [
    "from bs4 import BeautifulSoup\n",
    "from selenium import webdriver\n",
    "import pandas as pd\n",
    "import csv, requests\n",
    "\n",
    "op = pd.read_csv(\"links.csv\")\n",
    "option_list = list(op[op.columns[3]])\n",
    "url_list = list(op[op.columns[4]])\n",
    "\n",
    "with open('stocks.csv', mode='w') as file:\n",
    "    file.write(\"Option Symbol,Book Value,Market Value,Book/Market,EPS,Company P/E,Industry P/E\\n\")\n"
   ]
  },
  {
   "cell_type": "code",
   "execution_count": null,
   "metadata": {},
   "outputs": [],
   "source": [
    "o_url = url_list[i]\n",
    "response = requests.get(o_url)\n",
    "print(response.content)\n",
    "if response.url != \"https://www.moneycontrol.com\":     \n",
    "    soup = BeautifulSoup(response.content, \"html.parser\")\n",
    "    try:\n",
    "        market = soup.find(id=\"div_nse_livebox_wrap\").find(\"span\", {\"class\": \"span_price_wrap stprh red_hilight rdclr\"})\n",
    "        if not market:\n",
    "            market = soup.find(id=\"div_nse_livebox_wrap\").find(\"span\", {\"class\": \"span_price_wrap stprh rdclr\"})\n",
    "        if not market:\n",
    "            market = soup.find(id=\"div_nse_livebox_wrap\").find(\"span\", {\"class\": \"span_price_wrap stprh grn_hilight grnclr\"})\n",
    "        if not market:\n",
    "            market = soup.find(id=\"div_nse_livebox_wrap\").find(\"span\", {\"class\": \"span_price_wrap stprh grnclr\"})\n",
    "        market = market.getText()\n",
    "        market = float(market) if market != '-' else 0\n",
    "    except:\n",
    "        market = 0\n",
    "    book = soup.findAll(\"div\", {\"class\": \"value_txtfr\"})[2].getText()\n",
    "    book = float(book) if book != '-' else 0\n",
    "    eps = soup.findAll(\"div\", {\"class\": \"value_txtfr\"})[6].getText()\n",
    "    eps = float(eps) if eps != '-' else 0\n",
    "    ind_pe = soup.findAll(\"div\", {\"class\": \"value_txtfr\"})[5].getText()\n",
    "    ind_pe = float(ind_pe) if ind_pe != '-' else 0\n",
    "    pe = soup.findAll(\"div\", {\"class\": \"value_txtfr\"})[1].getText()\n",
    "    pe = float(pe) if pe != '-' else 0\n",
    "    bm = book/market if market != 0 else 0\n",
    "\n",
    "    with open('stocks.csv', mode='a') as file:\n",
    "        print(o)\n",
    "            file.write(\"{},{},{},{},{},{},{}\\n\".format(o, book, market, bm, eps, pe, ind_pe))\n"
   ]
  }
 ],
 "metadata": {
  "kernelspec": {
   "display_name": "Python 3",
   "language": "python",
   "name": "python3"
  },
  "language_info": {
   "codemirror_mode": {
    "name": "ipython",
    "version": 3
   },
   "file_extension": ".py",
   "mimetype": "text/x-python",
   "name": "python",
   "nbconvert_exporter": "python",
   "pygments_lexer": "ipython3",
   "version": "3.7.4"
  }
 },
 "nbformat": 4,
 "nbformat_minor": 2
}
